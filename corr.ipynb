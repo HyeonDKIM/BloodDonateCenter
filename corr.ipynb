{
 "cells": [
  {
   "cell_type": "code",
   "execution_count": 2,
   "metadata": {},
   "outputs": [
    {
     "data": {
      "text/html": [
       "<div>\n",
       "<style scoped>\n",
       "    .dataframe tbody tr th:only-of-type {\n",
       "        vertical-align: middle;\n",
       "    }\n",
       "\n",
       "    .dataframe tbody tr th {\n",
       "        vertical-align: top;\n",
       "    }\n",
       "\n",
       "    .dataframe thead th {\n",
       "        text-align: right;\n",
       "    }\n",
       "</style>\n",
       "<table border=\"1\" class=\"dataframe\">\n",
       "  <thead>\n",
       "    <tr style=\"text-align: right;\">\n",
       "      <th></th>\n",
       "      <th>구</th>\n",
       "      <th>인구</th>\n",
       "      <th>인구밀도</th>\n",
       "      <th>1020인구</th>\n",
       "      <th>유동인구</th>\n",
       "      <th>헌혈실적</th>\n",
       "    </tr>\n",
       "  </thead>\n",
       "  <tbody>\n",
       "    <tr>\n",
       "      <th>0</th>\n",
       "      <td>광산구</td>\n",
       "      <td>405315</td>\n",
       "      <td>133421.79</td>\n",
       "      <td>80220</td>\n",
       "      <td>2170000</td>\n",
       "      <td>12710</td>\n",
       "    </tr>\n",
       "    <tr>\n",
       "      <th>1</th>\n",
       "      <td>북구</td>\n",
       "      <td>433533</td>\n",
       "      <td>261526.58</td>\n",
       "      <td>83765</td>\n",
       "      <td>1840000</td>\n",
       "      <td>20502</td>\n",
       "    </tr>\n",
       "    <tr>\n",
       "      <th>2</th>\n",
       "      <td>동구</td>\n",
       "      <td>98585</td>\n",
       "      <td>83645.37</td>\n",
       "      <td>17551</td>\n",
       "      <td>592078</td>\n",
       "      <td>507</td>\n",
       "    </tr>\n",
       "    <tr>\n",
       "      <th>3</th>\n",
       "      <td>남구</td>\n",
       "      <td>218060</td>\n",
       "      <td>198772.19</td>\n",
       "      <td>39208</td>\n",
       "      <td>808270</td>\n",
       "      <td>26182</td>\n",
       "    </tr>\n",
       "    <tr>\n",
       "      <th>4</th>\n",
       "      <td>서구</td>\n",
       "      <td>300975</td>\n",
       "      <td>226923.42</td>\n",
       "      <td>61002</td>\n",
       "      <td>1880000</td>\n",
       "      <td>31756</td>\n",
       "    </tr>\n",
       "  </tbody>\n",
       "</table>\n",
       "</div>"
      ],
      "text/plain": [
       "     구      인구       인구밀도  1020인구     유동인구   헌혈실적\n",
       "0  광산구  405315  133421.79   80220  2170000  12710\n",
       "1   북구  433533  261526.58   83765  1840000  20502\n",
       "2   동구   98585   83645.37   17551   592078    507\n",
       "3   남구  218060  198772.19   39208   808270  26182\n",
       "4   서구  300975  226923.42   61002  1880000  31756"
      ]
     },
     "execution_count": 2,
     "metadata": {},
     "output_type": "execute_result"
    }
   ],
   "source": [
    "import pandas as pd # 데이터분석을 위한 패키지\n",
    "import numpy as np # 고차원의 숫자배열을 다루기 위한 패키지\n",
    "import matplotlib.pyplot as plt # 차트/그래프에 시각화하기 위한 패키지\n",
    "\n",
    "file_path = \"C:/data/Gwangju_Gu.csv\" # 파일 불러오기\n",
    "df = pd.read_csv(file_path, sep=',') # 데이터프레임 생성하기\n",
    "df"
   ]
  },
  {
   "cell_type": "code",
   "execution_count": 3,
   "metadata": {},
   "outputs": [
    {
     "data": {
      "text/plain": [
       "구         0\n",
       "인구        0\n",
       "인구밀도      0\n",
       "1020인구    0\n",
       "유동인구      0\n",
       "헌혈실적      0\n",
       "dtype: int64"
      ]
     },
     "execution_count": 3,
     "metadata": {},
     "output_type": "execute_result"
    }
   ],
   "source": [
    "df.isnull().sum() # 결측치 체크"
   ]
  },
  {
   "cell_type": "code",
   "execution_count": 11,
   "metadata": {},
   "outputs": [],
   "source": [
    "corr = df.corr(method = 'pearson') # 피어슨 상관계수\n"
   ]
  },
  {
   "cell_type": "code",
   "execution_count": 54,
   "metadata": {},
   "outputs": [
    {
     "data": {
      "text/plain": [
       "<seaborn.matrix.ClusterGrid at 0x27ef715e6a0>"
      ]
     },
     "execution_count": 54,
     "metadata": {},
     "output_type": "execute_result"
    },
    {
     "data": {
      "image/png": "[encoded data removed]",
      "text/plain": [
       "<Figure size 720x720 with 4 Axes>"
      ]
     },
     "metadata": {
      "needs_background": "light"
     },
     "output_type": "display_data"
    }
   ],
   "source": [
    "import seaborn as sns # 예쁜 히트맵을 그리기 위한 패키지\n",
    "from matplotlib import font_manager, rc # 한글폰트깨짐 방지\n",
    "\n",
    "# 한국어 폰트 깨짐 방지 코드----------------\n",
    "font_path = \"C:/Windows/Fonts/NGULIM.TTF\"\n",
    "font = font_manager.FontProperties(fname=font_path).get_name()\n",
    "rc('font', family=font)\n",
    "#-------------------------------------------\n",
    "\n",
    "sns.clustermap(corr, annot=True, cmap='RdYlBu_r', vmin=-1, vmax=1)\n",
    "# -1~1 사이의 color로 clustermap 제작 == 히트맵 제작이랑 같은 말"
   ]
  },
  {
   "cell_type": "code",
   "execution_count": 55,
   "metadata": {},
   "outputs": [
    {
     "data": {
      "text/html": [
       "<div>\n",
       "<style scoped>\n",
       "    .dataframe tbody tr th:only-of-type {\n",
       "        vertical-align: middle;\n",
       "    }\n",
       "\n",
       "    .dataframe tbody tr th {\n",
       "        vertical-align: top;\n",
       "    }\n",
       "\n",
       "    .dataframe thead th {\n",
       "        text-align: right;\n",
       "    }\n",
       "</style>\n",
       "<table border=\"1\" class=\"dataframe\">\n",
       "  <thead>\n",
       "    <tr style=\"text-align: right;\">\n",
       "      <th></th>\n",
       "      <th>인구밀도</th>\n",
       "      <th>1020인구</th>\n",
       "      <th>유동인구</th>\n",
       "      <th>헌혈실적</th>\n",
       "    </tr>\n",
       "  </thead>\n",
       "  <tbody>\n",
       "    <tr>\n",
       "      <th>0</th>\n",
       "      <td>133421.79</td>\n",
       "      <td>80220</td>\n",
       "      <td>2170000</td>\n",
       "      <td>12710</td>\n",
       "    </tr>\n",
       "    <tr>\n",
       "      <th>1</th>\n",
       "      <td>261526.58</td>\n",
       "      <td>83765</td>\n",
       "      <td>1840000</td>\n",
       "      <td>20502</td>\n",
       "    </tr>\n",
       "    <tr>\n",
       "      <th>2</th>\n",
       "      <td>83645.37</td>\n",
       "      <td>17551</td>\n",
       "      <td>592078</td>\n",
       "      <td>507</td>\n",
       "    </tr>\n",
       "    <tr>\n",
       "      <th>3</th>\n",
       "      <td>198772.19</td>\n",
       "      <td>39208</td>\n",
       "      <td>808270</td>\n",
       "      <td>26182</td>\n",
       "    </tr>\n",
       "    <tr>\n",
       "      <th>4</th>\n",
       "      <td>226923.42</td>\n",
       "      <td>61002</td>\n",
       "      <td>1880000</td>\n",
       "      <td>31756</td>\n",
       "    </tr>\n",
       "  </tbody>\n",
       "</table>\n",
       "</div>"
      ],
      "text/plain": [
       "        인구밀도  1020인구     유동인구   헌혈실적\n",
       "0  133421.79   80220  2170000  12710\n",
       "1  261526.58   83765  1840000  20502\n",
       "2   83645.37   17551   592078    507\n",
       "3  198772.19   39208   808270  26182\n",
       "4  226923.42   61002  1880000  31756"
      ]
     },
     "execution_count": 55,
     "metadata": {},
     "output_type": "execute_result"
    }
   ],
   "source": [
    "new_df = pd.DataFrame(data=df,\n",
    "                      columns=['인구밀도', '1020인구', '유동인구', '헌혈실적'])\n",
    "#상관계수가 1인 인구-1020인구 중 '1020인구'만 사용하기로 결정\n",
    "#상관계수가 1이면 매우 밀접한 관계가 있다는 뜻이므로 한 가지의 변수만 사용한다\n",
    "#따라서 새로운 dataframe을 만들어 다시 상관계수분석을 한다.\n",
    "new_df"
   ]
  },
  {
   "cell_type": "code",
   "execution_count": 56,
   "metadata": {},
   "outputs": [
    {
     "data": {
      "text/plain": [
       "<seaborn.matrix.ClusterGrid at 0x27ef715e198>"
      ]
     },
     "execution_count": 56,
     "metadata": {},
     "output_type": "execute_result"
    },
    {
     "data": {
      "image/png": "[encoded data removed]",
      "text/plain": [
       "<Figure size 720x720 with 4 Axes>"
      ]
     },
     "metadata": {
      "needs_background": "light"
     },
     "output_type": "display_data"
    }
   ],
   "source": [
    "corr = new_df.corr(method = 'pearson') # 새로운 dataframe에 대한 상관계수분석\n",
    "sns.clustermap(corr, annot=True, cmap='RdYlBu_r', vmin=-1, vmax=1) # 최종 히트맵을 그리는 코드"
   ]
  }
 ],
 "metadata": {
  "kernelspec": {
   "display_name": "Python 3",
   "language": "python",
   "name": "python3"
  },
  "language_info": {
   "codemirror_mode": {
    "name": "ipython",
    "version": 3
   },
   "file_extension": ".py",
   "mimetype": "text/x-python",
   "name": "python",
   "nbconvert_exporter": "python",
   "pygments_lexer": "ipython3",
   "version": "3.7.0"
  }
 },
 "nbformat": 4,
 "nbformat_minor": 2
}
